{
 "cells": [
  {
   "cell_type": "markdown",
   "metadata": {},
   "source": [
    "# Using Video "
   ]
  },
  {
   "cell_type": "code",
   "execution_count": 2,
   "metadata": {},
   "outputs": [],
   "source": [
    "import numpy as np\n",
    "import cv2"
   ]
  },
  {
   "cell_type": "code",
   "execution_count": 2,
   "metadata": {},
   "outputs": [
    {
     "data": {
      "text/plain": [
       "-1"
      ]
     },
     "execution_count": 2,
     "metadata": {},
     "output_type": "execute_result"
    }
   ],
   "source": [
    "# waitKey(0) will display the window infinitely until any keypress , waitkey(1) - for 1ms\n",
    "cap=cv2.VideoCapture(0)  # 0 specifies device index\n",
    "\n",
    "while (True):\n",
    "    ret,frame=cap.read()                        # READING FROM VIDEO CAPTURE \n",
    "    frame=cv2.resize(frame,(0,0),fx=0.5,fy=0.5) # resizing frame to half and displaying using imshow \n",
    "    cv2.imshow(\"Frame\",frame)\n",
    "    \n",
    "    ch=cv2.waitKey(1)                            #waitkey(1) - for 1ms\n",
    "    if ch & 0xFF==ord('q'):                     # & operation results in 8 bits to compare with ord('q')\n",
    "        break\n",
    "        \n",
    "cap.release()                                   \n",
    "cv2.destroyAllWindows()\n",
    "cv2.waitKey(1)"
   ]
  },
  {
   "cell_type": "markdown",
   "metadata": {},
   "source": [
    "# Create Custom Interface"
   ]
  },
  {
   "cell_type": "markdown",
   "metadata": {},
   "source": [
    " * Drawing circle and moving wherever user clicks"
   ]
  },
  {
   "cell_type": "code",
   "execution_count": 3,
   "metadata": {},
   "outputs": [
    {
     "name": "stdout",
     "output_type": "stream",
     "text": [
      "Pressed 113 71\n",
      "Pressed 126 196\n",
      "Pressed 229 190\n",
      "Pressed 230 49\n",
      "Pressed 59 59\n"
     ]
    },
    {
     "data": {
      "text/plain": [
       "-1"
      ]
     },
     "execution_count": 3,
     "metadata": {},
     "output_type": "execute_result"
    }
   ],
   "source": [
    "# waitKey(0) will display the window infinitely until any keypress , waitkey(1) - for 1ms\n",
    "cap=cv2.VideoCapture(0)  # 0 specifies device index\n",
    "\n",
    "color=(255,0,0)\n",
    "line_width=2\n",
    "radius=100\n",
    "point=(10,10)\n",
    "\n",
    "##\n",
    "def click(event,x,y,flags,param):  #callback function - we use callback with event bindings\n",
    "    global point\n",
    "    if event==cv2.EVENT_LBUTTONDOWN:\n",
    "        print(\"Pressed\",x,y)\n",
    "        point=(x,y)\n",
    "        \n",
    "        \n",
    "cv2.namedWindow(\"Frame\")\n",
    "cv2.setMouseCallback(\"Frame\",click)  #above defined function is being called\n",
    "\n",
    "while (True):\n",
    "    ret,frame=cap.read()                        # READING FROM VIDEO CAPTURE \n",
    "    frame=cv2.resize(frame,(0,0),fx=0.5,fy=0.5) # resizing frame to half and displaying using imshow \n",
    "    \n",
    "    ##to draw circle \n",
    "    cv2.circle(frame,point,radius,color,line_width)\n",
    "\n",
    "    cv2.imshow(\"Frame\",frame)\n",
    "    \n",
    "    ch=cv2.waitKey(1)                            #waitkey(1) - for 1ms\n",
    "    if ch & 0xFF==ord('q'):                     # & operation results in 8 bits to compare with ord('q')\n",
    "        break\n",
    "        \n",
    "cap.release()                                   \n",
    "cv2.destroyAllWindows()\n",
    "cv2.waitKey(1)"
   ]
  },
  {
   "cell_type": "markdown",
   "metadata": {},
   "source": [
    "# Simple Drawing App"
   ]
  },
  {
   "cell_type": "markdown",
   "metadata": {},
   "source": [
    "1. To be able to paint multiple circles on white canvas\n",
    "2. Select between atleast two colors"
   ]
  },
  {
   "cell_type": "code",
   "execution_count": 56,
   "metadata": {},
   "outputs": [],
   "source": [
    "import numpy as np\n",
    "import cv2"
   ]
  },
  {
   "cell_type": "code",
   "execution_count": 57,
   "metadata": {},
   "outputs": [],
   "source": [
    "canvas=np.ones([500,500,3],'uint8')*255 # means all pixels present white colour\n",
    "color=(255,0,0)                        #assigning initial color\n",
    "flag=False                             # flag for capturing events "
   ]
  },
  {
   "cell_type": "code",
   "execution_count": 58,
   "metadata": {},
   "outputs": [],
   "source": [
    "# we want to draw circles only when lbutton is pressed followed by mouse move and when lbutton is released it should stop thats why flag variable is assigned true value in lbuttondown and mouse move \n",
    "\n",
    "def click(event,x,y,flags,param):  #callback function - we use callback with event bindings\n",
    "    global canvas,flag\n",
    "    if event==cv2.EVENT_LBUTTONDOWN:\n",
    "            flag=True\n",
    "            cv2.circle(canvas,(x,y),10,color,-1)  ## 10 is radius of circle and -1 means filled shape\n",
    "    elif event==cv2.EVENT_MOUSEMOVE:\n",
    "        if flag ==True:\n",
    "            cv2.circle(canvas,(x,y),10,color,-1)\n",
    "    \n",
    "    elif event == cv2.EVENT_LBUTTONUP:\n",
    "        flag=False\n",
    "        "
   ]
  },
  {
   "cell_type": "code",
   "execution_count": 59,
   "metadata": {},
   "outputs": [
    {
     "data": {
      "text/plain": [
       "-1"
      ]
     },
     "execution_count": 59,
     "metadata": {},
     "output_type": "execute_result"
    }
   ],
   "source": [
    "#window initialisation and callback assignment\n",
    "cv2.namedWindow(\"canvas\")\n",
    "cv2.setMouseCallback(\"canvas\",click)  #above defined function is being called\n",
    "while True:\n",
    "    ##to draw circle \n",
    "    \n",
    "    cv2.imshow(\"canvas\",canvas)\n",
    "    \n",
    "    ch=cv2.waitKey(1)                            #waitkey(1) - for 1ms\n",
    "    if ch & 0xFF==ord('q'):                     # & operation results in 8 bits to compare with ord('q')\n",
    "        break\n",
    "    if ch & 0xFF==ord('b'):                     # if b is pressed change color\n",
    "        color=(0,255,0)\n",
    "    if ch & 0xFF==ord('e'):                     \n",
    "        color=(255,0,0)\n",
    "        \n",
    "                                   \n",
    "cv2.destroyAllWindows()\n",
    "cv2.waitKey(1)\n"
   ]
  },
  {
   "cell_type": "code",
   "execution_count": null,
   "metadata": {},
   "outputs": [],
   "source": []
  }
 ],
 "metadata": {
  "kernelspec": {
   "display_name": "Python 3",
   "language": "python",
   "name": "python3"
  },
  "language_info": {
   "codemirror_mode": {
    "name": "ipython",
    "version": 3
   },
   "file_extension": ".py",
   "mimetype": "text/x-python",
   "name": "python",
   "nbconvert_exporter": "python",
   "pygments_lexer": "ipython3",
   "version": "3.7.3"
  }
 },
 "nbformat": 4,
 "nbformat_minor": 2
}
