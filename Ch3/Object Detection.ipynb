{
 "cells": [
  {
   "cell_type": "markdown",
   "metadata": {},
   "source": [
    "# Object Detection "
   ]
  },
  {
   "cell_type": "markdown",
   "metadata": {},
   "source": [
    "* Binary Segmentation - means if pixel value > k then make it 1 otherwise 0 "
   ]
  },
  {
   "cell_type": "markdown",
   "metadata": {},
   "source": [
    "* Simple Thresholding <br>\n",
    "If pixel value is greater than a threshold value, it is assigned one value (may be white), else it is assigned another value (may be black). The function used is cv2.threshold. First argument is the source image, which should be a grayscale image. Second argument is the threshold value which is used to classify the pixel values. Third argument is the maxVal which represents the value to be given if pixel value is more than (sometimes less than) the threshold value. OpenCV provides different styles of thresholding and it is decided by the fourth parameter of the function. Different types are:\n",
    "\n",
    "cv2.THRESH_BINARY<br>\n",
    "cv2.THRESH_BINARY_INV<br>\n",
    "cv2.THRESH_TRUNC<br>\n",
    "cv2.THRESH_TOZERO<br>\n",
    "cv2.THRESH_TOZERO_INV\n"
   ]
  },
  {
   "cell_type": "code",
   "execution_count": 150,
   "metadata": {},
   "outputs": [],
   "source": [
    "import numpy as np \n",
    "import cv2\n",
    "import matplotlib.pyplot as plt\n",
    "import random"
   ]
  },
  {
   "cell_type": "code",
   "execution_count": 49,
   "metadata": {},
   "outputs": [],
   "source": [
    "# Reading image in black white format , indicated by 0 as second argument\n",
    "bw=cv2.imread('D:/Pooja/Online Courses Content/Lynda/opencv/Ch1/Frog.jpg',0)"
   ]
  },
  {
   "cell_type": "code",
   "execution_count": 50,
   "metadata": {},
   "outputs": [],
   "source": [
    "height,width = bw.shape[0:2]"
   ]
  },
  {
   "cell_type": "code",
   "execution_count": 53,
   "metadata": {},
   "outputs": [
    {
     "data": {
      "text/plain": [
       "-1"
      ]
     },
     "execution_count": 53,
     "metadata": {},
     "output_type": "execute_result"
    }
   ],
   "source": [
    "cv2.imshow('Original', bw)\n",
    "binary=np.zeros([height,width,1],'uint8')\n",
    "thresh=150\n",
    "for row in range(0,height):\n",
    "    for col in range(0,width):\n",
    "        if bw[row][col]>thresh:\n",
    "            binary[row][col]=255\n",
    "cv2.imshow(\"slow binary\",binary)\n",
    "cv2.moveWindow('slow binary',0,height)\n",
    "\n",
    "\n",
    "# other way to do same thing done above \n",
    "ret,thresh= cv2.threshold(bw,thresh,255,cv2.THRESH_BINARY)\n",
    "cv2.imshow(\"CV threshold\",thresh)\n",
    "cv2.moveWindow('CV threshold',0,2*height)\n",
    "cv2.waitKey(0)\n",
    "cv2.destroyAllWindows()\n",
    "cv2.waitKey(1)\n"
   ]
  },
  {
   "cell_type": "markdown",
   "metadata": {},
   "source": [
    "* Adaptive Thresholding  - Sometimes due to bad lighting or uneven lighting in picture - simple thresholding may not be enough- looks into local neighborhood of the image to determine whtehr a relative threshold is met "
   ]
  },
  {
   "cell_type": "code",
   "execution_count": 59,
   "metadata": {},
   "outputs": [],
   "source": [
    "img= cv2.imread(\"D:/Pooja/Online Courses Content/Lynda/opencv/Ch 3/ada_threshold.jpg\",0)\n",
    "height,width = img.shape[0:2]"
   ]
  },
  {
   "cell_type": "markdown",
   "metadata": {},
   "source": [
    "In the previous section, we used a global value as threshold value. But it may not be good in all the conditions where image has different lighting conditions in different areas. In that case, we go for adaptive thresholding. In this, the algorithm calculate the threshold for a small regions of the image. So we get different thresholds for different regions of the same image and it gives us better results for images with varying illumination.\n",
    "\n",
    "It has three ‘special’ input params and only one output argument.\n",
    "\n",
    "Adaptive Method - It decides how thresholding value is calculated.\n",
    "cv2.ADAPTIVE_THRESH_MEAN_C : threshold value is the mean of neighbourhood area.\n",
    "cv2.ADAPTIVE_THRESH_GAUSSIAN_C : threshold value is the weighted sum of neighbourhood values where weights are a gaussian window.\n",
    "\n",
    "Block Size - It decides the size of neighbourhood area.\n",
    "\n",
    "C - It is just a constant which is subtracted from the mean or weighted mean calculated."
   ]
  },
  {
   "cell_type": "code",
   "execution_count": 60,
   "metadata": {},
   "outputs": [
    {
     "data": {
      "text/plain": [
       "-1"
      ]
     },
     "execution_count": 60,
     "metadata": {},
     "output_type": "execute_result"
    }
   ],
   "source": [
    "cv2.imshow('Original', img)\n",
    "\n",
    "ret,thresh= cv2.threshold(img,70,255,cv2.THRESH_BINARY)\n",
    "cv2.imshow('Basic Binary',thresh)\n",
    "cv2.moveWindow('Basic Binary',0,height)\n",
    "\n",
    "thresh_adapt=cv2.adaptiveThreshold(img,255,cv2.ADAPTIVE_THRESH_GAUSSIAN_C,cv2.THRESH_BINARY,115,1)\n",
    "cv2.imshow('Adaptive',thresh_adapt)\n",
    "cv2.moveWindow('Adaptive',0,2*height)\n",
    "\n",
    "cv2.waitKey(0)\n",
    "cv2.destroyAllWindows()\n",
    "cv2.waitKey(1)\n"
   ]
  },
  {
   "cell_type": "markdown",
   "metadata": {},
   "source": [
    "# Simple skin detection using HSV filters "
   ]
  },
  {
   "cell_type": "code",
   "execution_count": 61,
   "metadata": {},
   "outputs": [],
   "source": [
    "img2=cv2.imread(\"D:/Pooja/Online Courses Content/Lynda/opencv/Ch 3/img2.jpg\")"
   ]
  },
  {
   "cell_type": "code",
   "execution_count": 63,
   "metadata": {},
   "outputs": [],
   "source": [
    "hsv=cv2.cvtColor(img2,cv2.COLOR_BGR2HSV)"
   ]
  },
  {
   "cell_type": "markdown",
   "metadata": {},
   "source": [
    "splitting image into hsv channels and using combination of saturation and hue channels followed by using simple thresholding on these and combining outputs to detect faces."
   ]
  },
  {
   "cell_type": "code",
   "execution_count": 82,
   "metadata": {},
   "outputs": [
    {
     "data": {
      "text/plain": [
       "-1"
      ]
     },
     "execution_count": 82,
     "metadata": {},
     "output_type": "execute_result"
    }
   ],
   "source": [
    "h=hsv[:,:,0]\n",
    "s=hsv[:,:,1]\n",
    "v=hsv[:,:,2]\n",
    "hsv_split=np.concatenate((h,s,v),axis=1)\n",
    "cv2.imshow(\"Split HSV\",hsv_split)\n",
    "\n",
    "ret,min_sat=cv2.threshold(s,60,255,cv2.THRESH_BINARY)\n",
    "cv2.imshow(\"Saturation Filter\",min_sat)\n",
    "\n",
    "ret,max_hue=cv2.threshold(h,25,255,cv2.THRESH_BINARY_INV)\n",
    "cv2.imshow(\"Hue Filter\",max_hue)\n",
    "\n",
    "final=cv2.bitwise_and(min_sat,max_hue)\n",
    "cv2.imshow('Final',final)\n",
    "\n",
    "cv2.waitKey(0)\n",
    "cv2.destroyAllWindows()\n",
    "cv2.waitKey(1)"
   ]
  },
  {
   "cell_type": "markdown",
   "metadata": {},
   "source": [
    "# Contours "
   ]
  },
  {
   "cell_type": "markdown",
   "metadata": {},
   "source": [
    "take binary image and create tightly fitted closed perimeter around all individual objects in the scene. Each perimeter is called contour. it is also called iterative energy reduction algo, basically it creates boundary around all the objects.\n",
    "\n",
    "these make use of idea of neighbourhoods and connectedness.It moves from the step of object segmentation ,often done by thresholding into the step of object detection."
   ]
  },
  {
   "cell_type": "code",
   "execution_count": 83,
   "metadata": {},
   "outputs": [],
   "source": [
    "img3= cv2.imread(\"D:/Pooja/Online Courses Content/Lynda/opencv/Ch 3/img3.jpg\",1)"
   ]
  },
  {
   "cell_type": "markdown",
   "metadata": {},
   "source": [
    "* Contour Object Detection\n",
    "\n",
    " three arguments in cv2.findContours() function, first one is source image, second is contour retrieval mode, third is contour approximation method. And it outputs the contours and hierarchy. Contours is a Python list of all the contours in the image. Each individual contour is a Numpy array of (x,y) coordinates of boundary points of the object. <br>\n",
    " \n",
    " If you pass cv.CHAIN_APPROX_NONE, all the boundary points are stored. But actually do we need all the points? For eg, you found the contour of a straight line. Do you need all the points on the line to represent that line? No, we need just two end points of that line. This is what cv.CHAIN_APPROX_SIMPLE does. It removes all redundant points and compresses the contour, thereby saving memory. <br>\n",
    " \n",
    " To draw the contours, cv.drawContours function is used. It can also be used to draw any shape provided you have its boundary points. Its first argument is source image, second argument is the contours which should be passed as a Python list, third argument is index of contours (useful when drawing individual contour. To draw all contours, pass -1) and remaining arguments are color, thickness etc."
   ]
  },
  {
   "cell_type": "code",
   "execution_count": 87,
   "metadata": {},
   "outputs": [
    {
     "data": {
      "text/plain": [
       "-1"
      ]
     },
     "execution_count": 87,
     "metadata": {},
     "output_type": "execute_result"
    }
   ],
   "source": [
    "#using adaptive thresholding \n",
    "gray = cv2.cvtColor(img3 , cv2.COLOR_RGB2GRAY)\n",
    "thresh=cv2.adaptiveThreshold(gray,255,cv2.ADAPTIVE_THRESH_GAUSSIAN_C,cv2.THRESH_BINARY,115,1)\n",
    "cv2.imshow('Binary',thresh)\n",
    "\n",
    "# getting contours \n",
    "_,contours,hierarchy=cv2.findContours(thresh,cv2.RETR_TREE,cv2.CHAIN_APPROX_SIMPLE)\n",
    "\n",
    "img4=img3.copy()\n",
    "\n",
    "index=-1   # signifies all contours \n",
    "thickness=1\n",
    "color=(0,0,255)\n",
    "\n",
    "cv2.drawContours(img4,contours,index,color,thickness)\n",
    "cv2.imshow('Contours',img4)\n",
    "\n",
    "cv2.waitKey(0)\n",
    "cv2.destroyAllWindows()\n",
    "cv2.waitKey(1)\n"
   ]
  },
  {
   "cell_type": "markdown",
   "metadata": {},
   "source": [
    "* Area , perimeter , Center  and curvature "
   ]
  },
  {
   "cell_type": "code",
   "execution_count": 95,
   "metadata": {},
   "outputs": [
    {
     "name": "stdout",
     "output_type": "stream",
     "text": [
      "Area:0.0, perimeter:2.0\n",
      "Area:0.0, perimeter:2.0\n",
      "Area:0.0, perimeter:0.0\n",
      "Area:0.0, perimeter:0.0\n",
      "Area:0.0, perimeter:2.0\n",
      "Area:0.0, perimeter:0.0\n",
      "Area:0.0, perimeter:0.0\n",
      "Area:0.0, perimeter:0.0\n",
      "Area:0.0, perimeter:0.0\n",
      "Area:0.0, perimeter:0.0\n",
      "Area:0.0, perimeter:0.0\n",
      "Area:0.0, perimeter:0.0\n",
      "Area:0.0, perimeter:0.0\n",
      "Area:19.5, perimeter:19.899494767189026\n",
      "Area:0.0, perimeter:0.0\n",
      "Area:0.0, perimeter:0.0\n",
      "Area:16.5, perimeter:29.55634891986847\n",
      "Area:0.0, perimeter:0.0\n",
      "Area:0.0, perimeter:2.0\n",
      "Area:0.0, perimeter:2.8284270763397217\n",
      "Area:0.0, perimeter:0.0\n",
      "Area:0.0, perimeter:0.0\n",
      "Area:745.0, perimeter:216.30865561962128\n",
      "Area:2.0, perimeter:5.656854152679443\n",
      "Area:0.0, perimeter:0.0\n",
      "Area:0.0, perimeter:0.0\n",
      "Area:0.0, perimeter:0.0\n",
      "Area:0.0, perimeter:0.0\n",
      "Area:1505.0, perimeter:267.2792180776596\n",
      "Area:0.0, perimeter:2.0\n",
      "Area:0.0, perimeter:2.8284270763397217\n",
      "Area:0.0, perimeter:0.0\n",
      "Area:0.0, perimeter:0.0\n",
      "Area:0.0, perimeter:2.0\n",
      "Area:0.0, perimeter:0.0\n",
      "Area:0.0, perimeter:0.0\n",
      "Area:0.0, perimeter:0.0\n",
      "Area:891.0, perimeter:237.48022830486298\n",
      "Area:0.0, perimeter:0.0\n",
      "Area:0.0, perimeter:0.0\n",
      "Area:0.0, perimeter:0.0\n",
      "Area:0.0, perimeter:0.0\n",
      "Area:0.0, perimeter:2.8284270763397217\n",
      "Area:0.0, perimeter:0.0\n",
      "Area:0.0, perimeter:0.0\n",
      "Area:0.0, perimeter:2.0\n",
      "Area:0.0, perimeter:0.0\n",
      "Area:0.0, perimeter:2.0\n",
      "Area:0.0, perimeter:0.0\n",
      "Area:0.0, perimeter:0.0\n",
      "Area:0.0, perimeter:0.0\n",
      "Area:0.0, perimeter:0.0\n",
      "Area:0.0, perimeter:0.0\n",
      "Area:36.0, perimeter:25.656854152679443\n",
      "Area:37.5, perimeter:27.071067690849304\n",
      "Area:0.0, perimeter:2.0\n",
      "Area:0.0, perimeter:0.0\n",
      "Area:0.0, perimeter:0.0\n",
      "Area:0.0, perimeter:0.0\n",
      "Area:0.0, perimeter:0.0\n",
      "Area:0.0, perimeter:0.0\n",
      "Area:0.0, perimeter:0.0\n",
      "Area:0.0, perimeter:0.0\n",
      "Area:0.0, perimeter:0.0\n",
      "Area:0.0, perimeter:0.0\n",
      "Area:0.0, perimeter:0.0\n",
      "Area:0.0, perimeter:0.0\n",
      "Area:0.0, perimeter:0.0\n",
      "Area:0.0, perimeter:2.0\n",
      "Area:0.0, perimeter:0.0\n",
      "Area:0.0, perimeter:0.0\n",
      "Area:1.0, perimeter:4.828427076339722\n",
      "Area:0.0, perimeter:4.0\n",
      "Area:1242.5, perimeter:234.55129635334015\n",
      "Area:2.0, perimeter:5.656854152679443\n",
      "Area:2.0, perimeter:5.656854152679443\n",
      "Area:0.0, perimeter:0.0\n",
      "Area:0.0, perimeter:2.0\n",
      "Area:0.5, perimeter:5.414213538169861\n",
      "Area:0.0, perimeter:0.0\n",
      "Area:0.0, perimeter:0.0\n",
      "Area:0.5, perimeter:8.242640614509583\n",
      "Area:0.0, perimeter:0.0\n",
      "Area:0.0, perimeter:0.0\n",
      "Area:0.0, perimeter:2.0\n",
      "Area:1251.5, perimeter:283.6639940738678\n",
      "Area:0.0, perimeter:0.0\n",
      "Area:0.0, perimeter:0.0\n",
      "Area:0.0, perimeter:2.0\n",
      "Area:58.0, perimeter:34.97056245803833\n",
      "Area:73.5, perimeter:39.21320307254791\n",
      "Area:0.0, perimeter:0.0\n",
      "Area:0.0, perimeter:0.0\n",
      "Area:0.0, perimeter:2.0\n",
      "Area:0.5, perimeter:3.414213538169861\n",
      "Area:0.0, perimeter:0.0\n",
      "Area:0.0, perimeter:0.0\n",
      "Area:0.0, perimeter:2.0\n",
      "Area:0.0, perimeter:0.0\n",
      "Area:0.0, perimeter:2.0\n",
      "Area:0.0, perimeter:4.0\n",
      "Area:0.0, perimeter:0.0\n",
      "Area:0.0, perimeter:5.656854152679443\n",
      "Area:0.0, perimeter:0.0\n",
      "Area:0.0, perimeter:0.0\n",
      "Area:0.0, perimeter:0.0\n",
      "Area:0.0, perimeter:0.0\n",
      "Area:8.5, perimeter:14.242640614509583\n",
      "Area:0.0, perimeter:0.0\n",
      "Area:0.5, perimeter:3.414213538169861\n",
      "Area:0.0, perimeter:2.0\n",
      "Area:0.0, perimeter:0.0\n",
      "Area:0.0, perimeter:4.0\n",
      "Area:0.0, perimeter:0.0\n",
      "Area:0.0, perimeter:2.0\n",
      "Area:0.0, perimeter:0.0\n",
      "Area:0.0, perimeter:0.0\n",
      "Area:1181.5, perimeter:483.88938999176025\n",
      "Area:38.0, perimeter:32.97056245803833\n",
      "Area:2.0, perimeter:5.656854152679443\n",
      "Area:4.0, perimeter:7.656854152679443\n",
      "Area:0.0, perimeter:0.0\n",
      "Area:0.0, perimeter:0.0\n",
      "Area:0.0, perimeter:0.0\n",
      "Area:0.0, perimeter:0.0\n",
      "Area:0.0, perimeter:0.0\n",
      "Area:0.0, perimeter:2.0\n",
      "Area:0.0, perimeter:0.0\n",
      "Area:0.0, perimeter:2.0\n",
      "Area:15.5, perimeter:16.242640614509583\n",
      "Area:0.0, perimeter:2.0\n",
      "Area:0.0, perimeter:2.8284270763397217\n",
      "Area:0.0, perimeter:0.0\n",
      "Area:0.0, perimeter:0.0\n",
      "Area:0.0, perimeter:0.0\n",
      "Area:0.0, perimeter:0.0\n",
      "Area:0.0, perimeter:0.0\n",
      "Area:0.0, perimeter:0.0\n",
      "Area:0.0, perimeter:2.0\n",
      "Area:0.0, perimeter:0.0\n",
      "Area:0.0, perimeter:0.0\n",
      "Area:0.0, perimeter:0.0\n",
      "Area:0.0, perimeter:0.0\n",
      "Area:1.0, perimeter:4.828427076339722\n",
      "Area:0.0, perimeter:2.8284270763397217\n",
      "Area:0.0, perimeter:0.0\n",
      "Area:0.0, perimeter:0.0\n",
      "Area:0.0, perimeter:2.0\n",
      "Area:0.0, perimeter:0.0\n",
      "Area:0.0, perimeter:0.0\n",
      "Area:0.0, perimeter:0.0\n",
      "Area:0.0, perimeter:0.0\n",
      "Area:0.0, perimeter:0.0\n",
      "Area:0.5, perimeter:3.414213538169861\n",
      "Area:0.0, perimeter:0.0\n",
      "Area:0.0, perimeter:0.0\n",
      "Area:0.0, perimeter:0.0\n",
      "Area:0.0, perimeter:0.0\n",
      "Area:0.0, perimeter:2.0\n",
      "Area:0.0, perimeter:0.0\n",
      "Area:0.0, perimeter:4.0\n",
      "Area:0.0, perimeter:2.0\n",
      "Area:0.0, perimeter:0.0\n",
      "Area:0.0, perimeter:0.0\n",
      "Area:0.0, perimeter:0.0\n",
      "Area:0.0, perimeter:2.0\n",
      "Area:0.0, perimeter:0.0\n",
      "Area:0.0, perimeter:2.0\n",
      "Area:0.0, perimeter:0.0\n",
      "Area:0.0, perimeter:0.0\n",
      "Area:0.0, perimeter:0.0\n",
      "Area:765.5, perimeter:222.06601536273956\n",
      "Area:1099.5, perimeter:253.52185881137848\n",
      "Area:2.0, perimeter:5.656854152679443\n",
      "Area:2.0, perimeter:5.656854152679443\n",
      "Area:5.5, perimeter:9.071067690849304\n",
      "Area:2.0, perimeter:5.656854152679443\n",
      "Area:4.0, perimeter:7.656854152679443\n",
      "Area:7.0, perimeter:9.656854152679443\n",
      "Area:0.0, perimeter:2.0\n",
      "Area:960.0, perimeter:378.3330411911011\n",
      "Area:2.0, perimeter:5.656854152679443\n",
      "Area:4.0, perimeter:7.656854152679443\n",
      "Area:29.0, perimeter:26.97056245803833\n",
      "Area:2.0, perimeter:5.656854152679443\n",
      "Area:0.0, perimeter:2.0\n",
      "Area:0.0, perimeter:2.0\n",
      "Area:0.0, perimeter:2.0\n",
      "Area:0.0, perimeter:0.0\n",
      "Area:0.0, perimeter:0.0\n",
      "Area:0.0, perimeter:0.0\n",
      "Area:0.0, perimeter:2.0\n",
      "Area:0.0, perimeter:6.0\n",
      "Area:10.5, perimeter:17.41421353816986\n",
      "Area:7.0, perimeter:12.828427076339722\n",
      "Area:128.5, perimeter:74.72792172431946\n",
      "Area:5.0, perimeter:14.828427076339722\n"
     ]
    },
    {
     "data": {
      "text/plain": [
       "-1"
      ]
     },
     "execution_count": 95,
     "metadata": {},
     "output_type": "execute_result"
    }
   ],
   "source": [
    "objects = np.zeros([img3.shape[0],img3.shape[1],3],'uint8')\n",
    "for c in contours:\n",
    "    cv2.drawContours(objects,[c],-1,(255,0,0),-1)\n",
    "    area=cv2.contourArea(c)\n",
    "    perimeter=cv2.arcLength(c,True)\n",
    "    \n",
    "    if M[\"m00\"] != 0:\n",
    "        cx = int(M[\"m10\"] / M[\"m00\"])\n",
    "        cy = int(M[\"m01\"] / M[\"m00\"])\n",
    "    else:\n",
    "    # set values as what you need in the situation\n",
    "        cx, cy = 0, 0\n",
    "    \n",
    "    cv2.circle(objects,(cx,cy),4,(0,0,255),-1)\n",
    "    \n",
    "    print(\"Area:{}, perimeter:{}\".format(area,perimeter))\n",
    "cv2.imshow('Contours',objects)\n",
    "cv2.waitKey(0)\n",
    "cv2.destroyAllWindows()\n",
    "cv2.waitKey(1)\n",
    "\n"
   ]
  },
  {
   "cell_type": "markdown",
   "metadata": {},
   "source": [
    "* Canny Edge Detection <br>\n",
    "\n",
    " First argument is our input image. Second and third arguments are our minVal and maxVal respectively. Third argument is aperture_size. It is the size of Sobel kernel used for find image gradients. <br>\n",
    " \n",
    " About minval ,maxval<br>\n",
    " Hysteresis Thresholding<br>\n",
    "This stage decides which are all edges are really edges and which are not. For this, we need two threshold values, minVal and maxVal. Any edges with intensity gradient more than maxVal are sure to be edges and those below minVal are sure to be non-edges, so discarded. Those who lie between these two thresholds are classified edges or non-edges based on their connectivity. If they are connected to “sure-edge” pixels, they are considered to be part of edges. Otherwise, they are also discarded. "
   ]
  },
  {
   "cell_type": "code",
   "execution_count": 96,
   "metadata": {},
   "outputs": [
    {
     "data": {
      "text/plain": [
       "-1"
      ]
     },
     "execution_count": 96,
     "metadata": {},
     "output_type": "execute_result"
    }
   ],
   "source": [
    "hsv = cv2.cvtColor(img3,cv2.COLOR_BGR2HSV)\n",
    "\n",
    "ret,thresh= cv2.threshold(hsv[:,:,0],25,255,cv2.THRESH_BINARY_INV)\n",
    "cv2.imshow(\"Thresh\",thresh)\n",
    "\n",
    "edges=cv2.Canny(img3,100,70)\n",
    "cv2.imshow(\"Canny\",edges)\n",
    "\n",
    "cv2.waitKey(0)\n",
    "cv2.destroyAllWindows()\n",
    "cv2.waitKey(1)\n"
   ]
  },
  {
   "cell_type": "code",
   "execution_count": 101,
   "metadata": {},
   "outputs": [
    {
     "data": {
      "text/plain": [
       "(Text(0.5, 1.0, 'Edge Image'),\n",
       " ([], <a list of 0 Text xticklabel objects>),\n",
       " ([], <a list of 0 Text yticklabel objects>))"
      ]
     },
     "execution_count": 101,
     "metadata": {},
     "output_type": "execute_result"
    },
    {
     "data": {
      "image/png": "[encoded data removed]",
      "text/plain": [
       "<Figure size 432x288 with 2 Axes>"
      ]
     },
     "metadata": {},
     "output_type": "display_data"
    }
   ],
   "source": [
    "\n",
    "plt.subplot(121),plt.imshow(img3)\n",
    "plt.title('Original Image'), plt.xticks([]), plt.yticks([])\n",
    "\n",
    "plt.subplot(122),plt.imshow(edges,cmap = 'gray')\n",
    "plt.title('Edge Image'), plt.xticks([]), plt.yticks([])"
   ]
  },
  {
   "cell_type": "markdown",
   "metadata": {},
   "source": [
    "* challenge object detection\n",
    "\n",
    "draw objects on blank image , print perimeter and area \n",
    "only draw large objects (area greater than 1000 px2)\n",
    "each object should be drawn with its on color \n"
   ]
  },
  {
   "cell_type": "code",
   "execution_count": 117,
   "metadata": {},
   "outputs": [],
   "source": [
    "img5=cv2.imread(\"D:/Pooja/Online Courses Content/Lynda/opencv/Ch 3/img4.jpg\",1)"
   ]
  },
  {
   "cell_type": "code",
   "execution_count": 118,
   "metadata": {},
   "outputs": [],
   "source": [
    "gray = cv2.cvtColor(img5 , cv2.COLOR_RGB2GRAY)\n",
    "thresh=cv2.adaptiveThreshold(gray,255,cv2.ADAPTIVE_THRESH_GAUSSIAN_C,cv2.THRESH_BINARY,115,1)\n"
   ]
  },
  {
   "cell_type": "code",
   "execution_count": 119,
   "metadata": {},
   "outputs": [],
   "source": [
    "_,contours,hierarchy=cv2.findContours(thresh,cv2.RETR_TREE,cv2.CHAIN_APPROX_SIMPLE)\n"
   ]
  },
  {
   "cell_type": "code",
   "execution_count": 152,
   "metadata": {},
   "outputs": [
    {
     "name": "stdout",
     "output_type": "stream",
     "text": [
      "Area:49776.5, perimeter:934.2426406145096\n",
      "Area:79.0, perimeter:33.65685415267944\n",
      "Area:1041.5, perimeter:149.29646337032318\n",
      "0\n",
      "Area:1264.5, perimeter:229.72286868095398\n",
      "1\n",
      "Area:2.0, perimeter:5.656854152679443\n",
      "Area:1232.0, perimeter:142.1421353816986\n",
      "2\n",
      "Area:1783.0, perimeter:169.65685415267944\n",
      "3\n",
      "Area:2.0, perimeter:5.656854152679443\n",
      "Area:1068.0, perimeter:122.22539603710175\n",
      "4\n"
     ]
    },
    {
     "data": {
      "text/plain": [
       "-1"
      ]
     },
     "execution_count": 152,
     "metadata": {},
     "output_type": "execute_result"
    }
   ],
   "source": [
    "\n",
    "\n",
    "objects1 = np.zeros([img5.shape[0],img5.shape[1],3],'uint8')\n",
    "color1 = (list(np.random.choice(range(256), size=3)))  \n",
    "color =[int(color1[0]), int(color1[1]), int(color1[2])]  \n",
    "i=0\n",
    "for c in contours:\n",
    "    area=cv2.contourArea(c)\n",
    "    perimeter=cv2.arcLength(c,True)\n",
    "    \n",
    "    print(\"Area:{}, perimeter:{}\".format(area,perimeter))\n",
    "    if((area>1000) & (area<2000)):\n",
    "        \n",
    "        cv2.drawContours(objects1,[c],-1,(random.randint(0,255),random.randint(0,255),random.randint(0,255)),-1)\n",
    "       \n",
    "        \n",
    "cv2.imshow('Contours',objects1)\n",
    "cv2.moveWindow('contour_ch',0,300)\n",
    "cv2.waitKey(0)\n",
    "cv2.destroyAllWindows()\n",
    "cv2.waitKey(1)\n",
    "\n"
   ]
  },
  {
   "cell_type": "code",
   "execution_count": 153,
   "metadata": {},
   "outputs": [
    {
     "data": {
      "text/plain": [
       "(Text(0.5, 1.0, 'object'),\n",
       " ([], <a list of 0 Text xticklabel objects>),\n",
       " ([], <a list of 0 Text yticklabel objects>))"
      ]
     },
     "execution_count": 153,
     "metadata": {},
     "output_type": "execute_result"
    },
    {
     "data": {
      "image/png": "[encoded data removed]",
      "text/plain": [
       "<Figure size 432x288 with 2 Axes>"
      ]
     },
     "metadata": {},
     "output_type": "display_data"
    }
   ],
   "source": [
    "plt.subplot(121),plt.imshow(img5)\n",
    "plt.title('Original Image'), plt.xticks([]), plt.yticks([])\n",
    "\n",
    "plt.subplot(122),plt.imshow(objects1,cmap = 'gray')\n",
    "plt.title('object'), plt.xticks([]), plt.yticks([])"
   ]
  },
  {
   "cell_type": "code",
   "execution_count": null,
   "metadata": {},
   "outputs": [],
   "source": []
  },
  {
   "cell_type": "code",
   "execution_count": null,
   "metadata": {},
   "outputs": [],
   "source": []
  }
 ],
 "metadata": {
  "kernelspec": {
   "display_name": "Python 3",
   "language": "python",
   "name": "python3"
  },
  "language_info": {
   "codemirror_mode": {
    "name": "ipython",
    "version": 3
   },
   "file_extension": ".py",
   "mimetype": "text/x-python",
   "name": "python",
   "nbconvert_exporter": "python",
   "pygments_lexer": "ipython3",
   "version": "3.7.3"
  }
 },
 "nbformat": 4,
 "nbformat_minor": 2
}
